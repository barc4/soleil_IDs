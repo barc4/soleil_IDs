{
 "cells": [
  {
   "cell_type": "markdown",
   "metadata": {},
   "source": [
    "<a id=\"toc\"></a>\n",
    "\n",
    "# APU250 - emission spectra\n",
    "***\n",
    "\n",
    "Contents :\n",
    "1. [Creation of SYNED input file (.json)](#syned)"
   ]
  },
  {
   "cell_type": "code",
   "execution_count": 3,
   "metadata": {},
   "outputs": [
    {
     "name": "stdout",
     "output_type": "stream",
     "text": [
      "c:\\Users\\rafae\\miniconda3\\envs\\dev\\python.exe\n",
      "3.8.5 (default, Sep  3 2020, 21:29:08) [MSC v.1916 64 bit (AMD64)]\n",
      "The autoreload extension is already loaded. To reload it, use:\n",
      "  %reload_ext autoreload\n"
     ]
    }
   ],
   "source": [
    "__author__ = ['Rafael Celestre']\n",
    "__contact__ = 'rafael.celestre@synchrotron-soleil.fr'\n",
    "__license__ = 'GPL-3.0'\n",
    "__copyright__ = 'Synchrotron SOLEIL, Saint Aubin, France'\n",
    "__created__ = '19/NOV/2024'\n",
    "__changed__ = '19/NOV/2024'\n",
    "\n",
    "import sys\n",
    "\n",
    "import barc4sr.sr_undulator as und\n",
    "import numpy as np\n",
    "from barc4sr.aux_utils import (\n",
    "                            ElectronBeam,\n",
    "                            MagneticStructure,\n",
    "                            SynchrotronSource,\n",
    ")\n",
    "from scipy.constants import nano, pico\n",
    "\n",
    "# checking we are using the correct python:\n",
    "print(sys.executable)\n",
    "print(sys.version)\n",
    "\n",
    "%load_ext autoreload\n",
    "%autoreload 2\n",
    "# %matplotlib widget"
   ]
  },
  {
   "cell_type": "markdown",
   "metadata": {},
   "source": [
    "### Creation of SYNED input file (.json)\n",
    "\n",
    "[Back to the top](#toc)\n",
    "\n",
    "The SYNED Light Source file containing the electron beam parameters and the undulator parameters\n",
    "is necessary for using barc4sr."
   ]
  },
  {
   "cell_type": "code",
   "execution_count": 4,
   "metadata": {},
   "outputs": [],
   "source": [
    "u250 = MagneticStructure(period_length=250e-3, number_of_periods=20)"
   ]
  },
  {
   "cell_type": "code",
   "execution_count": 7,
   "metadata": {},
   "outputs": [
    {
     "name": "stdout",
     "output_type": "stream",
     "text": [
      "electron beam:\n",
      "            >> x/xp = 208.03 um vs. 31.62 urad\n",
      "            >> y/yp = 10.24 um vs. 4.71 urad\n"
     ]
    }
   ],
   "source": [
    "straight_section = ElectronBeam()\n",
    "straight_section.from_twiss(energy=2.75, energy_spread=0.1025/100, current=0.500,\n",
    "                            emittance=3.94*nano, coupling=1/100,\n",
    "                            beta_x=3.9210, beta_y=2.1191, \n",
    "                            alpha_x=0.0514, alpha_y=0.1430,\n",
    "                            eta_x=0.1632, eta_y=-0.0046,\n",
    "                            etap_x=0.0015, etap_y=0.0018)\n",
    "straight_section.print_rms()\n",
    "\n",
    "u250.set_resonant_energy(5, 1, straight_section.energy_in_GeV, \"v\")\n",
    "\n",
    "desirs = SynchrotronSource(straight_section, u250)\n",
    "desirs.write_syned_config(r\".\\oasys_soleil-ii_u250.json\",\"Soleil - U250\")"
   ]
  },
  {
   "cell_type": "code",
   "execution_count": null,
   "metadata": {},
   "outputs": [],
   "source": []
  }
 ],
 "metadata": {
  "kernelspec": {
   "display_name": "dev",
   "language": "python",
   "name": "python3"
  },
  "language_info": {
   "codemirror_mode": {
    "name": "ipython",
    "version": 3
   },
   "file_extension": ".py",
   "mimetype": "text/x-python",
   "name": "python",
   "nbconvert_exporter": "python",
   "pygments_lexer": "ipython3",
   "version": "3.8.5"
  }
 },
 "nbformat": 4,
 "nbformat_minor": 2
}
